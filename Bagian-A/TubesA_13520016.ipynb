{
 "cells": [
  {
   "cell_type": "code",
   "execution_count": 1,
   "metadata": {},
   "outputs": [],
   "source": [
    "import numpy as np\n",
    "import json\n",
    "from graphviz import Digraph"
   ]
  },
  {
   "cell_type": "code",
   "execution_count": 2,
   "metadata": {},
   "outputs": [],
   "source": [
    "# Activation models enum\n",
    "activation = [\n",
    "  'relu',\n",
    "  'sigmoid',\n",
    "  'linear',\n",
    "  'softmax'\n",
    "]"
   ]
  },
  {
   "cell_type": "code",
   "execution_count": 3,
   "metadata": {},
   "outputs": [],
   "source": [
    "## Class layer\n",
    "\n",
    "class Layer:\n",
    "  def __init__(self, neuron: int, function: str, weights: np.array, bias: np.array):\n",
    "    self.neuron = neuron\n",
    "    self.weights = weights\n",
    "    self.bias = bias\n",
    "    if (function not in activation):\n",
    "      raise Exception('Activation function not found')\n",
    "    else:\n",
    "      self.str_function = function\n",
    "      if self.str_function == 'sigmoid':\n",
    "        self.function = lambda x: 1 / (1 + np.exp(-x))\n",
    "      elif self.str_function == 'relu':\n",
    "        self.function = lambda x: np.maximum(0, x)\n",
    "      elif self.str_function == 'linear':\n",
    "        self.function = lambda x: x\n",
    "      else:\n",
    "        self.function = lambda x: np.exp(x) / np.sum(np.exp(x))\n",
    "\n",
    "  def forward(self, input: np.array):\n",
    "    self.output = self.function(np.dot(input, self.weights) + self.bias)\n",
    "    return self.output"
   ]
  },
  {
   "cell_type": "code",
   "execution_count": 4,
   "metadata": {},
   "outputs": [],
   "source": [
    "# FFNN Class\n",
    "class FFNN:\n",
    "  def __init__ (self, input: np.array, layers: list):\n",
    "    self.input = input\n",
    "    self.layers = layers\n",
    "    self.output = None\n",
    "  \n",
    "  def new_layer(self, layer: Layer):\n",
    "    self.layers.append(layer)\n",
    "\n",
    "  def forward(self):\n",
    "    self.output = self.input\n",
    "    for layer in self.layers:\n",
    "      self.output = layer.forward(self.output)\n",
    "\n",
    "    return self.output\n",
    "  \n",
    "  def predictions(self):\n",
    "    if(len(self.output.shape) == 1):\n",
    "      for i in range(len(self.output)):\n",
    "        if self.output[i] > 0.5:\n",
    "          self.output[i] = 1\n",
    "        else:\n",
    "          self.output[i] = 0\n",
    "    else :\n",
    "      for i in range(len(self.output)):\n",
    "        for j in range(len(self.output[i])):\n",
    "          if self.output[i][j] > 0.5:\n",
    "            self.output[i][j] = 1\n",
    "          else:\n",
    "            self.output[i][j] = 0\n",
    "\n",
    "  def visualize(self):\n",
    "    dot = Digraph(comment='FFNN')\n",
    "    dot.attr(rankdir='LR', nodesep='1', ranksep='')\n",
    "    dot.attr('node', shape='circle', width='0.4', height='0.4')\n",
    "    \n",
    "    #if no hidden layer\n",
    "    if len(self.layers) == 1:\n",
    "      for i in range(len(self.input[0])):\n",
    "        for j in range(len(self.output[0])):\n",
    "          weight = self.layers[0].weights[i][j]\n",
    "          dot.edge(f'input{i}', f'output{j}', xlabel=f'{weight:.2f}', color='#2ecc71', xlabelfloat='true')\n",
    "    else :\n",
    "    # Input layer\n",
    "      for i in range(len(self.input[0])):\n",
    "          dot.node(f'input{i}', f'input{i}', color='#2ecc71')\n",
    "\n",
    "      # Hidden layers\n",
    "      for i in range(len(self.layers) - 1):\n",
    "          for j in range(self.layers[i+1].neuron):\n",
    "              dot.node(f'hidden{i}{j}', f'hidden{i}{j}', color='#e67e22')\n",
    "\n",
    "          if i == 0:\n",
    "              for j in range(len(self.input[0])):\n",
    "                  for k in range(self.layers[i+1].neuron):\n",
    "                      weight = self.layers[i].weights[j][k]\n",
    "                      dot.edge(f'input{j}', f'hidden{i}{k}', xlabel=f'{weight:.2f}', color='#2ecc71')\n",
    "\n",
    "          else:\n",
    "              for j in range(self.layers[i].neuron):\n",
    "                  for k in range(self.layers[i+1].neuron):\n",
    "                      weight = self.layers[i].weights[j][k]\n",
    "                      dot.edge(f'hidden{i-1}{j}', f'hidden{i}{k}', xlabel=f'{weight:.2f}', color='#e67e22')\n",
    "\n",
    "      # Output layer\n",
    "      for i in range(len(self.output[0])):\n",
    "          dot.node(f'output{i}', f'output{i}', color='#f1c40f')\n",
    "\n",
    "      for i in range(self.layers[-1].neuron):\n",
    "          for j in range(len(self.output[0])):\n",
    "              weight = self.layers[-1].weights[i][j]\n",
    "              dot.edge(f'hidden{len(self.layers)-2}{i}', f'output{j}', xlabel=f'{weight:.2f}', color='#f1c40f')\n",
    "\n",
    "\n",
    "    return dot"
   ]
  },
  {
   "cell_type": "code",
   "execution_count": 5,
   "metadata": {},
   "outputs": [
    {
     "name": "stdout",
     "output_type": "stream",
     "text": [
      "[[ 2.   0.3 -1.9]]\n"
     ]
    }
   ],
   "source": [
    "# Driver code\n",
    "\n",
    "model = str(input(\"Masukkan nama file model (dalam format .json): \"))\n",
    "model = open(f\"models/{model}\", \"r\")\n",
    "model = json.load(model)\n",
    "\n",
    "layers = model[\"case\"][\"model\"]\n",
    "weights = model[\"case\"][\"weights\"]\n",
    "inputArray = model[\"case\"][\"input\"]\n",
    "\n",
    "ffnn = FFNN(np.array(inputArray), [])\n",
    "for i in range (len(layers[\"layers\"])):\n",
    "  layer = layers[\"layers\"][i]\n",
    "  weight = weights[i]\n",
    "  new_layer = Layer(layer[\"number_of_neurons\"], layer[\"activation_function\"], np.array(weight[1:]), np.array(weight[0]))\n",
    "  ffnn.new_layer(new_layer)\n",
    "\n",
    "ffnn.forward()\n",
    "\n",
    "\n",
    "print(ffnn.output)"
   ]
  },
  {
   "cell_type": "code",
   "execution_count": 6,
   "metadata": {},
   "outputs": [
    {
     "data": {
      "text/plain": [
       "'ffnn_graph.png'"
      ]
     },
     "execution_count": 6,
     "metadata": {},
     "output_type": "execute_result"
    }
   ],
   "source": [
    "# ! Note: Only run this cell if you have Graphviz installed and set on your PATH\n",
    "\n",
    "# Create Graphviz digraph object\n",
    "dot = ffnn.visualize()\n",
    "\n",
    "# Save and render the graph\n",
    "dot.render(\"ffnn_graph\", format=\"png\", cleanup=True)"
   ]
  }
 ],
 "metadata": {
  "kernelspec": {
   "display_name": "env",
   "language": "python",
   "name": "python3"
  },
  "language_info": {
   "codemirror_mode": {
    "name": "ipython",
    "version": 3
   },
   "file_extension": ".py",
   "mimetype": "text/x-python",
   "name": "python",
   "nbconvert_exporter": "python",
   "pygments_lexer": "ipython3",
   "version": "3.9.6"
  },
  "orig_nbformat": 4
 },
 "nbformat": 4,
 "nbformat_minor": 2
}
